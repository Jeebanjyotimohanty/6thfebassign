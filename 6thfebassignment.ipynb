{
 "cells": [
  {
   "cell_type": "code",
   "execution_count": 14,
   "id": "e31d90c3-54f5-4128-b51c-896cfcfb5471",
   "metadata": {},
   "outputs": [],
   "source": [
    "#1)\n",
    "def listmul(list1):\n",
    "    l2=[]\n",
    "    for i in list1:\n",
    "        if type(i)==int:\n",
    "            l2.append(i)\n",
    "        elif type(i)==list:\n",
    "            for j in i:\n",
    "                if type(j)==int:\n",
    "                    l2.append(j)\n",
    "        elif type(i)==tuple:\n",
    "            for k in i:\n",
    "                if type(k)==int:\n",
    "                    l2.append(k)\n",
    "        elif type(i)==set:\n",
    "            for l in i:\n",
    "                if type(l)==int:\n",
    "                    l2.append(l)\n",
    "        elif type(i)==dict:\n",
    "            for key, value in i.items():\n",
    "                if type(key)==int:\n",
    "                    l2.append(key)\n",
    "                if type(value)==list:\n",
    "                    for i in value:\n",
    "                        if type(i)==int:\n",
    "                            l2.append(i)\n",
    "                elif type(value)==tuple:\n",
    "                    for j in value:\n",
    "                        if type(j)==int:\n",
    "                            l2.append(j)\n",
    "                elif type(value)==int:\n",
    "                    l2.append(k)\n",
    "    print(l2)\n"
   ]
  },
  {
   "cell_type": "code",
   "execution_count": 15,
   "id": "3f55a1ab-6f1f-41ba-affb-554d2a81255e",
   "metadata": {},
   "outputs": [
    {
     "name": "stdout",
     "output_type": "stream",
     "text": [
      "[1, 2, 3, 4, 44, 55, 66, 34, 56, 78, 89, 34, 1, 2, 3, 1, 34, 55, 67, 78, 89, 4, 45, 22, 61, 34, 56]\n"
     ]
    }
   ],
   "source": [
    "a=listmul( [1,2,3,4, [44,55,66, True], False, (34,56,78,89,34), {1,2,3,3,2,1}, {1:34, \"key2\": [55, 67, 78, 89], 4: (45,22, 61, 34)}, [56, 'data science'], 'Machine Learning'])"
   ]
  },
  {
   "cell_type": "code",
   "execution_count": 38,
   "id": "9784b28e-7b29-4fcd-8f41-be5e8ac0ba96",
   "metadata": {},
   "outputs": [],
   "source": [
    "#2)\n",
    "def encrypt(a):\n",
    "    b=a.lower()\n",
    "    b=b.replace(\" \",\"$\")\n",
    "    for i in b:\n",
    "        if i==a:\n",
    "            b.replace(\"a\",\"z\")\n",
    "        if i==b:\n",
    "            b.replace(\"b\",\"y\")\n",
    "        if i==c:\n",
    "            b.replace(\"\")\n",
    "    return b"
   ]
  },
  {
   "cell_type": "code",
   "execution_count": 40,
   "id": "3c7f876d-3f1b-4e2a-9615-0f7635376add",
   "metadata": {},
   "outputs": [
    {
     "data": {
      "text/plain": [
       "'I$want$to$become$a$data$science'"
      ]
     },
     "execution_count": 40,
     "metadata": {},
     "output_type": "execute_result"
    }
   ],
   "source": [
    "c=encrypt(\"I want to become a Data Scientist.\")\n",
    "b"
   ]
  },
  {
   "cell_type": "code",
   "execution_count": null,
   "id": "7cb97c45-7f92-41dd-b4c3-005f77b390ef",
   "metadata": {},
   "outputs": [],
   "source": []
  }
 ],
 "metadata": {
  "kernelspec": {
   "display_name": "Python 3 (ipykernel)",
   "language": "python",
   "name": "python3"
  },
  "language_info": {
   "codemirror_mode": {
    "name": "ipython",
    "version": 3
   },
   "file_extension": ".py",
   "mimetype": "text/x-python",
   "name": "python",
   "nbconvert_exporter": "python",
   "pygments_lexer": "ipython3",
   "version": "3.10.6"
  }
 },
 "nbformat": 4,
 "nbformat_minor": 5
}
